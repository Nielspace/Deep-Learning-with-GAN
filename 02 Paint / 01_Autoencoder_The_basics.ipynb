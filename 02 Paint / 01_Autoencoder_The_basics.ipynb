{
  "nbformat": 4,
  "nbformat_minor": 0,
  "metadata": {
    "colab": {
      "name": "01 Autoencoder-The basics",
      "provenance": [],
      "toc_visible": true,
      "include_colab_link": true
    },
    "kernelspec": {
      "name": "python3",
      "display_name": "Python 3"
    },
    "accelerator": "GPU"
  },
  "cells": [
    {
      "cell_type": "markdown",
      "metadata": {
        "id": "view-in-github",
        "colab_type": "text"
      },
      "source": [
        "<a href=\"https://colab.research.google.com/github/Nielspace/Deep-Learning-with-GAN/blob/master/02%20Paint%20/%2001_Autoencoder_The_basics.ipynb\" target=\"_parent\"><img src=\"https://colab.research.google.com/assets/colab-badge.svg\" alt=\"Open In Colab\"/></a>"
      ]
    },
    {
      "cell_type": "code",
      "metadata": {
        "id": "SYsHoOP1YNlk",
        "colab_type": "code",
        "colab": {}
      },
      "source": [
        "import os\n",
        "import keras\n",
        "from keras.datasets import mnist\n",
        "from keras.models import Model"
      ],
      "execution_count": 0,
      "outputs": []
    },
    {
      "cell_type": "markdown",
      "metadata": {
        "id": "ne_iXMjQYuYD",
        "colab_type": "text"
      },
      "source": [
        "# Set Parameter"
      ]
    },
    {
      "cell_type": "code",
      "metadata": {
        "id": "iZsKPkoNYpYp",
        "colab_type": "code",
        "colab": {}
      },
      "source": [
        "# run params\n",
        "SECTION = 'vae'\n",
        "RUN_ID = '0001'\n",
        "DATA_NAME = 'digits'\n",
        "RUN_FOLDER = 'run/{}/'.format(SECTION)\n",
        "RUN_FOLDER += '_'.join([RUN_ID, DATA_NAME])\n",
        "\n",
        "try:\n",
        "  if not os.path.exists(RUN_FOLDER):\n",
        "      os.mkdir(RUN_FOLDER)\n",
        "      os.mkdir(os.path.join(RUN_FOLDER, 'viz'))\n",
        "      os.mkdir(os.path.join(RUN_FOLDER, 'images'))\n",
        "      os.mkdir(os.path.join(RUN_FOLDER, 'weights'))\n",
        "except Exception as e:\n",
        "  pass\n",
        "\n",
        "MODE =  'build' #'load' #"
      ],
      "execution_count": 0,
      "outputs": []
    },
    {
      "cell_type": "code",
      "metadata": {
        "id": "OoKLfUJGZCv3",
        "colab_type": "code",
        "colab": {}
      },
      "source": [
        ""
      ],
      "execution_count": 0,
      "outputs": []
    }
  ]
}